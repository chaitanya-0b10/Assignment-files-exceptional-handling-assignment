{
 "cells": [
  {
   "cell_type": "markdown",
   "id": "af862ceb-fdf8-448a-a030-b51643934cec",
   "metadata": {},
   "source": [
    "1. Discuss the scenarios where multithreading is preferable to multiprocessing and scenarios where\n",
    "multiprocessing is a better choice."
   ]
  },
  {
   "cell_type": "code",
   "execution_count": 2,
   "id": "8953d5a7-82d7-417c-980d-686cca347448",
   "metadata": {},
   "outputs": [
    {
     "data": {
      "text/plain": [
       "'\\nMultithreading:\\n\\nWhen tasks are lightweight and do not require significant CPU resources, multithreading can be more efficient due to lower overhead compared to creating multiple processes.\\nThreads share the same memory space, making it more efficient in terms of memory usage.\\nSwitching between threads is generally faster than switching between processes.\\nWhen tasks need to share data frequently, threads can access shared memory more easily.\\n\\nMultiprocessing\\n:\\nTasks that require heavy computation and can benefit from parallel execution on multiple CPU cores.\\nEach process runs in its own memory space, providing better fault isolation (a crash in one process doesn’t affect others).\\nIn Python, multiprocessing can bypass the Global Interpreter Lock (GIL), allowing true parallelism.\\nSuitable for tasks that can be distributed across multiple machines or cores.\\n'"
      ]
     },
     "execution_count": 2,
     "metadata": {},
     "output_type": "execute_result"
    }
   ],
   "source": [
    "'''\n",
    "Multithreading:\n",
    "\n",
    "When tasks are lightweight and do not require significant CPU resources, multithreading can be more efficient due to lower overhead compared to creating multiple processes.\n",
    "Threads share the same memory space, making it more efficient in terms of memory usage.\n",
    "Switching between threads is generally faster than switching between processes.\n",
    "When tasks need to share data frequently, threads can access shared memory more easily.\n",
    "\n",
    "Multiprocessing\n",
    ":\n",
    "Tasks that require heavy computation and can benefit from parallel execution on multiple CPU cores.\n",
    "Each process runs in its own memory space, providing better fault isolation (a crash in one process doesn’t affect others).\n",
    "In Python, multiprocessing can bypass the Global Interpreter Lock (GIL), allowing true parallelism.\n",
    "Suitable for tasks that can be distributed across multiple machines or cores.\n",
    "'''"
   ]
  },
  {
   "cell_type": "markdown",
   "id": "46a1640d-badd-4080-abde-6a1b6ae613e5",
   "metadata": {},
   "source": [
    "2. Describe what a process pool is and how it helps in managing multiple processes efficiently."
   ]
  },
  {
   "cell_type": "code",
   "execution_count": null,
   "id": "0fd506c2-0982-45c1-8f9f-af357687cae6",
   "metadata": {},
   "outputs": [],
   "source": [
    "'''\n",
    "A process pool is a collection of worker processes that are managed by a pool object,\n",
    "which handles the distribution of tasks to the workers.\n",
    "\n",
    "Resource Management: Limits the number of concurrent processes, preventing system overload.\n",
    "Task Distribution: Automatically distributes tasks among the available worker processes, ensuring balanced workload.\n",
    "Reusability: Reuses existing processes for multiple tasks, reducing the overhead of creating and destroying processes.\n",
    "Simplified API: Provides a high-level interface for parallel execution, making it easier to implement multiprocessing.\n",
    "Scalability: Can easily scale up to utilize multiple CPU cores, improving performance for CPU-bound tasks.\n",
    "\n",
    "'''"
   ]
  },
  {
   "cell_type": "markdown",
   "id": "99823528-ed5a-4dcf-9d3a-c67076242f0e",
   "metadata": {},
   "source": [
    "3. Explain what multiprocessing is and why it is used in Python programs."
   ]
  },
  {
   "cell_type": "code",
   "execution_count": null,
   "id": "7bbe334f-cebd-4e20-a75e-1a596fafd811",
   "metadata": {},
   "outputs": [],
   "source": [
    "'''\n",
    "Multiprocessing is a programming and execution model that involves the concurrent execution of multiple\n",
    "processes. A process is an independent program that runs in its own memory space and has its own resources.\n",
    "In multiprocessing, multiple processes run concurrently, each with its own set of instructions and data. These\n",
    "processes can communicate with each other through inter-process communication (IPC) mechanisms.\n",
    "\n",
    "Bypasses the GIL: Enables true parallelism by creating separate processes.\n",
    "Improves Performance: Utilizes multiple CPU cores for CPU-bound tasks.\n",
    "Fault Isolation: Each process runs independently, enhancing fault tolerance.\n",
    "Scalability: Suitable for large-scale parallel processing across multiple machines or cores.\n",
    "Efficient Resource Utilization: Distributes tasks across processes for better system resource usage.\n",
    "'''\n"
   ]
  },
  {
   "cell_type": "markdown",
   "id": "9d99cbf1-f40e-48f2-9e84-0e5c8082e531",
   "metadata": {},
   "source": [
    "4. Write a Python program using multithreading where one thread adds numbers to a list, and another\n",
    "thread removes numbers from the list. Implement a mechanism to avoid race conditions using\n",
    "threading.Lock."
   ]
  },
  {
   "cell_type": "code",
   "execution_count": 9,
   "id": "7ce43b17-1e5a-4cbe-9d4d-e6a4d0562886",
   "metadata": {},
   "outputs": [
    {
     "name": "stdout",
     "output_type": "stream",
     "text": [
      "Added 2: [2]\n",
      "Removed 2: []\n",
      "List is empty, nothing to remove.\n",
      "Added 25: [25]\n",
      "Removed 25: []\n",
      "Added 71: [71]\n",
      "Removed 71: []\n",
      "Added 32: [32]\n",
      "Removed 32: []\n",
      "Added 98: [98]\n",
      "Removed 98: []\n",
      "Added 36: [36]\n",
      "Removed 36: []\n",
      "Added 57: [57]\n",
      "Removed 57: []\n",
      "Added 68: [68]\n",
      "Added 23: [68, 23]\n",
      "Removed 68: [23]\n",
      "Added 45: [23, 45]\n",
      "Removed 23: [45]\n",
      "Final state of the list: [45]\n"
     ]
    }
   ],
   "source": [
    "import threading\n",
    "import time\n",
    "import random\n",
    "\n",
    "# Shared list and lock\n",
    "shared_list = []\n",
    "lock = threading.Lock()\n",
    "\n",
    "# Function to add numbers to the list\n",
    "def add_numbers():\n",
    "    global shared_list\n",
    "    for _ in range(10):  # Adding 10 numbers\n",
    "        number = random.randint(1, 100)\n",
    "        with lock:\n",
    "            shared_list.append(number)\n",
    "            print(f\"Added {number}: {shared_list}\")\n",
    "        time.sleep(random.uniform(0.1, 0.5))  # Simulate work\n",
    "\n",
    "# Function to remove numbers from the list\n",
    "def remove_numbers():\n",
    "    global shared_list\n",
    "    for _ in range(10):  # Trying to remove 10 numbers\n",
    "        with lock:\n",
    "            if shared_list:\n",
    "                removed = shared_list.pop(0)\n",
    "                print(f\"Removed {removed}: {shared_list}\")\n",
    "            else:\n",
    "                print(\"List is empty, nothing to remove.\")\n",
    "        time.sleep(random.uniform(0.1, 0.5))  # Simulate work\n",
    "\n",
    "# Create threads\n",
    "adder_thread = threading.Thread(target=add_numbers)\n",
    "remover_thread = threading.Thread(target=remove_numbers)\n",
    "\n",
    "# Start threads\n",
    "adder_thread.start()\n",
    "remover_thread.start()\n",
    "\n",
    "# Wait for threads to finish\n",
    "adder_thread.join()\n",
    "remover_thread.join()\n",
    "\n",
    "print(\"Final state of the list:\", shared_list)\n"
   ]
  },
  {
   "cell_type": "markdown",
   "id": "e889a910-7e73-49d2-b784-15c7e75ec12d",
   "metadata": {},
   "source": [
    "5. Describe the methods and tools available in Python for safely sharing data between threads and\n",
    "processes."
   ]
  },
  {
   "cell_type": "code",
   "execution_count": 12,
   "id": "f85966bb-1f1b-44ca-a60d-ae5bd01639cd",
   "metadata": {},
   "outputs": [
    {
     "data": {
      "text/plain": [
       "'\\nmultiprocessing.Queue:\\nAllows safe communication between processes using a FIFO queue.\\n\\nmultiprocessing.Pipe:\\nProvides a two-way communication channel between processes.\\n\\nmultiprocessing.Value:\\nAllows sharing of a single value between processes.\\n\\nmultiprocessing.Array:\\nAllows sharing of an array of values between processes.\\n\\nShared Memory (multiprocessing.shared_memory):\\nProvides a way to share data between processes using shared memory blocks.\\n\\n'"
      ]
     },
     "execution_count": 12,
     "metadata": {},
     "output_type": "execute_result"
    }
   ],
   "source": [
    "'''\n",
    "multiprocessing.Queue:\n",
    "Allows safe communication between processes using a FIFO queue.\n",
    "\n",
    "multiprocessing.Pipe:\n",
    "Provides a two-way communication channel between processes.\n",
    "\n",
    "multiprocessing.Value:\n",
    "Allows sharing of a single value between processes.\n",
    "\n",
    "multiprocessing.Array:\n",
    "Allows sharing of an array of values between processes.\n",
    "\n",
    "Shared Memory (multiprocessing.shared_memory):\n",
    "Provides a way to share data between processes using shared memory blocks.\n",
    "\n",
    "'''"
   ]
  },
  {
   "cell_type": "markdown",
   "id": "8d878a53-50b3-4a1d-b85f-85b089ffbde8",
   "metadata": {},
   "source": [
    "6. Discuss why it’s crucial to handle exceptions in concurrent programs and the techniques available for\n",
    "doing so."
   ]
  },
  {
   "cell_type": "code",
   "execution_count": null,
   "id": "83e4fa6c-c327-41df-9b5f-31017b2d8181",
   "metadata": {},
   "outputs": [],
   "source": [
    "'''\n",
    "Error Management: It allows developers to manage errors gracefully without crashing the program. \n",
    "By catching exceptions,we can provide meaningful error messages and handle unexpected situations.\n",
    "Code Clarity: Separating error-handling code from the main logic makes the code cleaner and easier to read. \n",
    "This separation helps maintain the logical flow of the program.\n",
    "Robustness: Proper exception handling ensures that your program can handle unexpected inputs or conditions,\n",
    "making it more robust and reliable.\n",
    "Debugging: Exception handling provides a way to log errors, which can be invaluable for debugging and maintaining the software.\n",
    "'''\n",
    "'''\n",
    "try: Contains code that might raise an exception.\n",
    "except: Catches and handles the exception.\n",
    "else: Executes if no exceptions were raised in the try block.\n",
    "finally: Executes regardless of whether an exception was raised, typically used for cleanup actions.\n",
    "'''\n",
    "try:\n",
    "    result = 10 / 2\n",
    "except ZeroDivisionError:\n",
    "    print(\"You can't divide by zero!\")\n",
    "else:\n",
    "    print(\"Division was successful!\")\n",
    "finally:\n",
    "    print(\"This will always execute.\")\n"
   ]
  },
  {
   "cell_type": "markdown",
   "id": "cb9362e1-f6d1-49ad-8f3a-14d1d25ed4ad",
   "metadata": {},
   "source": [
    "7. Create a program that uses a thread pool to calculate the factorial of numbers from 1 to 10 concurrently.\n",
    "Use concurrent.futures.ThreadPoolExecutor to manage the threads."
   ]
  },
  {
   "cell_type": "code",
   "execution_count": null,
   "id": "da664cd5-4365-48d8-9eca-b656f10d5f19",
   "metadata": {},
   "outputs": [],
   "source": []
  },
  {
   "cell_type": "markdown",
   "id": "f40cd76a-b4e3-429f-b1d7-70fd40543aaf",
   "metadata": {},
   "source": [
    "8. Create a Python program that uses multiprocessing.Pool to compute the square of numbers from 1 to 10 in\n",
    "parallel. Measure the time taken to perform this computation using a pool of different sizes (e.g., 2, 4, 8\n",
    "processes)."
   ]
  },
  {
   "cell_type": "code",
   "execution_count": null,
   "id": "69b91495-9ca7-4422-849a-f52363787f4b",
   "metadata": {},
   "outputs": [],
   "source": [
    "import multiprocessing\n",
    "import time\n",
    "\n",
    "def square(x):\n",
    "    return x * x\n",
    "\n",
    "if __name__ == \"__main__\":\n",
    "    numbers = list(range(1, 11))\n",
    "    pool_sizes = [2, 4, 8]\n",
    "\n",
    "    for size in pool_sizes:\n",
    "        start_time = time.time()\n",
    "        with multiprocessing.Pool(processes=size) as pool:\n",
    "            results = pool.map(square, numbers)\n",
    "        end_time = time.time()\n",
    "        print(f\"Pool size: {size}, Time taken: {end_time - start_time:.4f} seconds, Results: {results}\")\n"
   ]
  },
  {
   "cell_type": "code",
   "execution_count": null,
   "id": "17dc0eea-96a8-4c2f-b7a3-6d934f751981",
   "metadata": {},
   "outputs": [],
   "source": []
  }
 ],
 "metadata": {
  "kernelspec": {
   "display_name": "Python 3 (ipykernel)",
   "language": "python",
   "name": "python3"
  },
  "language_info": {
   "codemirror_mode": {
    "name": "ipython",
    "version": 3
   },
   "file_extension": ".py",
   "mimetype": "text/x-python",
   "name": "python",
   "nbconvert_exporter": "python",
   "pygments_lexer": "ipython3",
   "version": "3.12.4"
  }
 },
 "nbformat": 4,
 "nbformat_minor": 5
}
